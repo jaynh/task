{
  "nbformat": 4,
  "nbformat_minor": 0,
  "metadata": {
    "colab": {
      "name": "1주차과제.ipynb",
      "provenance": [],
      "authorship_tag": "ABX9TyPiGWBoF5mg+/oJIowBOeal",
      "include_colab_link": true
    },
    "kernelspec": {
      "name": "python3",
      "display_name": "Python 3"
    }
  },
  "cells": [
    {
      "cell_type": "markdown",
      "metadata": {
        "id": "view-in-github",
        "colab_type": "text"
      },
      "source": [
        "<a href=\"https://colab.research.google.com/github/jaynh/task/blob/master/1%EC%A3%BC%EC%B0%A8%EA%B3%BC%EC%A0%9C.ipynb\" target=\"_parent\"><img src=\"https://colab.research.google.com/assets/colab-badge.svg\" alt=\"Open In Colab\"/></a>"
      ]
    },
    {
      "cell_type": "markdown",
      "metadata": {
        "id": "SSDDENKZB25U",
        "colab_type": "text"
      },
      "source": [
        "#1주차 과제\n",
        "##언어, 음성, 이미지, 자율주행의 인공지능 적용 제품 및 서비스"
      ]
    },
    {
      "cell_type": "markdown",
      "metadata": {
        "id": "AL26gk_gCRym",
        "colab_type": "text"
      },
      "source": [
        "1. 언어\n",
        "  * 페이스북의 Deep Text\n",
        "    * 언어를 이해하는 인공지능 엔진\n",
        "    * 다른 언어로 된 포스트와 댓글을 읽고 분석한 뒤 높은 정확도로 이해\n",
        "    * 20여개 이상의 언어를 해석하고 분석하는 데에 실제 사람 수준의 정확도를 보임\n",
        "  \n",
        "  * 기업용 대화형 AI Brity\n",
        "    * 자연어로 대화하여 고객이 요청하는 업무를 지원하고 수행\n",
        "    * 사용자가 요청하는 업무를 처리하기 위해 자연어 이해와 추론 및 학습이 가능\n",
        "\n",
        "2. 음성\n",
        "  * 아마존 에코-알렉사\n",
        "    * 음성인식 기술을 적용한 스마트 스피커\n",
        "    * 음성을 통해 음악재생, 알람설정, 날씨정보 제공 등에 대한 기능 수행\n",
        "\n",
        "3. 이미지\n",
        "  * 덴마크 스타트업의 Uizard\n",
        "    * 앱 디자인을 효율적으로 할 수 있도록 만들어진 서비스\n",
        "    * 디자이너의 스케치를 바로 UI로 변환한 뒤 프론트엔드에서 활용 가능한 코드로 추출\n",
        "    * 반복적이고 수동적인 작업을 감소시키고 프로세스를 빠르게 함으로서 디자이너 제품의 퀄리티를 높임\n",
        "\n",
        "  * Adobe의 Sensie\n",
        "    * 사용자의 작업 스타일과 워크플로우, 작업템플을 활용하여 작업 효율을 높이는 크리에이티브 비서\n",
        "    * 작업에 필요한 적합한 이미지를 추천하고 작업 기록 및 컨트롤 가능\n",
        "\n",
        "4. 자동주행\n",
        "  * 알파벳의 웨이모_자율주행차 프로젝트\n",
        "    * 운전자없는 자율주행의 가능을 목표로 함\n",
        "    * 원격 모니터링, 데이터 기록, 비상시 원격 운행 등의 통신 기술을 사용\n",
        "    * 방대한 데이터를 이용하여 날씨, 도로 상황, 고장 등을 감지\n",
        "\n",
        "\n",
        "\n"
      ]
    }
  ]
}